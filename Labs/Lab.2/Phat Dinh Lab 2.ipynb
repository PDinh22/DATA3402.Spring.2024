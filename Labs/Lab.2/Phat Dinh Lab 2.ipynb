{
 "cells": [
  {
   "cell_type": "markdown",
   "metadata": {},
   "source": [
    "## Lab 2- Tic Tac Toe\n",
    "\n",
    "In this lab your will build a n x n Tic Tac Toe game. As you do the exercises, make sure your solutions work for any size Tic Tac Toe game. "
   ]
  },
  {
   "cell_type": "markdown",
   "metadata": {},
   "source": [
    "*Exercise 1:* Write a function that creates an n by n matrix (of list of lists) which will represent the state of a Tie Tac Toe game. Let 0, 1, and 2 represent empty, \"X\", and \"O\", respectively.\n"
   ]
  },
  {
   "cell_type": "code",
   "execution_count": 2,
   "metadata": {},
   "outputs": [],
   "source": [
    "# Write you solution here\n",
    "empty=0\n",
    "X=1\n",
    "O=2\n",
    "\n",
    "\n",
    "def Board(size):\n",
    "    board=list()\n",
    "    for i in range(size):\n",
    "        row=list()\n",
    "        for j in range(size):\n",
    "            row.append(empty)\n",
    "\n",
    "        board.append(row)\n",
    "    return board\n",
    "\n",
    "\n",
    "\n",
    "\n"
   ]
  },
  {
   "cell_type": "code",
   "execution_count": 3,
   "metadata": {},
   "outputs": [
    {
     "data": {
      "text/plain": [
       "[[0, 0, 0], [0, 0, 0], [0, 0, 0]]"
      ]
     },
     "execution_count": 3,
     "metadata": {},
     "output_type": "execute_result"
    }
   ],
   "source": [
    "# Test your solution here\n",
    "board_0=Board(3)\n",
    "board_0"
   ]
  },
  {
   "cell_type": "markdown",
   "metadata": {},
   "source": [
    "*Exercise 2:* Write a function that takes 2 integers `n` and `m` as input and draws a `n` by `m` game board. For example the following is a 3x3 board:\n",
    "```\n",
    "   --- --- --- \n",
    "  |   |   |   | \n",
    "   --- --- ---  \n",
    "  |   |   |   | \n",
    "   --- --- ---  \n",
    "  |   |   |   | \n",
    "   --- --- --- \n",
    "   ```"
   ]
  },
  {
   "cell_type": "code",
   "execution_count": 4,
   "metadata": {},
   "outputs": [],
   "source": [
    "# Write you solution here\n",
    "def Draw_Gameboard(size_row,size_column):\n",
    "    for a in range(size_row):\n",
    "        print(\" ---\",end=\"\")\n",
    "    \n",
    "    for b in range(size_column):\n",
    "        print(\"\\n\",end=\"\")\n",
    "        for c in range(size_row+1):\n",
    "            print(\"|   \",end=\"\")\n",
    "        print(\"\\n\",end=\"\")\n",
    "        for d in range(size_row):\n",
    "            print(\" ---\",end=\"\")\n"
   ]
  },
  {
   "cell_type": "code",
   "execution_count": 5,
   "metadata": {},
   "outputs": [
    {
     "name": "stdout",
     "output_type": "stream",
     "text": [
      " --- --- --- ---\n",
      "|   |   |   |   |   \n",
      " --- --- --- ---\n",
      "|   |   |   |   |   \n",
      " --- --- --- ---\n",
      "|   |   |   |   |   \n",
      " --- --- --- ---\n",
      "|   |   |   |   |   \n",
      " --- --- --- ---\n",
      "|   |   |   |   |   \n",
      " --- --- --- ---"
     ]
    }
   ],
   "source": [
    "# Test your solution here\n",
    "Draw_Gameboard(4,5)"
   ]
  },
  {
   "cell_type": "markdown",
   "metadata": {},
   "source": [
    "*Exercise 3:* Modify exercise 2, so that it takes a matrix of the form from exercise 1 and draws a tic-tac-tie board with \"X\"s and \"O\"s.  "
   ]
  },
  {
   "cell_type": "code",
   "execution_count": 6,
   "metadata": {},
   "outputs": [],
   "source": [
    "# Write you solution here\n",
    "def Draw_TicTacToe_Board(board):\n",
    "    n=len(board_0)\n",
    "    m=len(board_0[1])\n",
    "    \n",
    "    player_1_piece=\"X\"\n",
    "    player_2_piece=\"O\"\n",
    "    empty_space=\" \"\n",
    "    \n",
    "    space_character= {\"X\":player_1_piece,\n",
    "                   \"O\":player_2_piece,\n",
    "                   empty: empty_space}\n",
    "    \n",
    "    for e in range(n):\n",
    "        print(\" ---\"*m)\n",
    "        for f in range(m):\n",
    "            print(f\"| {space_character[board[e][f]]}\", end=\" \")\n",
    "        print(\"|\")\n",
    "    print(\" ---\"*m)\n"
   ]
  },
  {
   "cell_type": "code",
   "execution_count": 7,
   "metadata": {},
   "outputs": [
    {
     "name": "stdout",
     "output_type": "stream",
     "text": [
      " --- --- ---\n",
      "|   |   |   |\n",
      " --- --- ---\n",
      "|   |   |   |\n",
      " --- --- ---\n",
      "|   |   |   |\n",
      " --- --- ---\n"
     ]
    }
   ],
   "source": [
    "# Test your solution here\n",
    "Draw_TicTacToe_Board(board_0)"
   ]
  },
  {
   "cell_type": "markdown",
   "metadata": {},
   "source": [
    "*Exercise 4:* Write a function that takes a `n` by `n` matrix representing a tic-tac-toe game, and returns -1, 0, 1, or 2 indicating the game is incomplete, the game is a draw, player 1 has won, or player 2 has one, respectively. Here are some example inputs you can use to test your code:"
   ]
  },
  {
   "cell_type": "code",
   "execution_count": 8,
   "metadata": {},
   "outputs": [],
   "source": [
    "winner_is_2 = [[2, 2, 0],\n",
    "\t[2, 1, 0],\n",
    "\t[2, 1, 1]]\n",
    "\n",
    "winner_is_1 = [[1, 2, 0],\n",
    "\t[2, 1, 0],\n",
    "\t[2, 1, 1]]\n",
    "\n",
    "winner_is_also_1 = [[0, 1, 0],\n",
    "\t[2, 1, 0],\n",
    "\t[2, 1, 1]]\n",
    "\n",
    "no_winner = [[1, 2, 0],\n",
    "\t[2, 1, 0],\n",
    "\t[2, 1, 2]]\n",
    "\n",
    "also_no_winner = [[1, 2, 0],\n",
    "\t[2, 1, 0],\n",
    "\t[2, 1, 0]]"
   ]
  },
  {
   "cell_type": "code",
   "execution_count": 9,
   "metadata": {},
   "outputs": [],
   "source": [
    "# Write you solution here\n",
    "player_1_piece=\"X\"\n",
    "player_2_piece=\"O\"\n",
    "empty_space=\" \"\n",
    "    \n",
    "space_character= {\"X\":player_1_piece,\n",
    "                  \"O\":player_2_piece,\n",
    "                  empty: empty_space}\n",
    "\n",
    "def Diagonals(board):\n",
    "    n=len(board)\n",
    "    m=len(board[0])\n",
    "\n",
    "    if n!=m:\n",
    "        print(\"Not a square matrix\")\n",
    "        return None\n",
    "\n",
    "    diag_1=[board[a][a] for a in range(n)]\n",
    "    diag_2=[board[a][n-a-1]for a in range(n)]\n",
    "\n",
    "    return [diag_1,diag_2]\n",
    "\n",
    "def Rows(board):\n",
    "    return board\n",
    "\n",
    "def Columns(board):\n",
    "    n=len(board)\n",
    "    m=len(board[0])\n",
    "    if n!=m:\n",
    "        print(\"Not a square matrix\")\n",
    "        return None\n",
    "\n",
    "    board_T=list()\n",
    "    for a in range(n):\n",
    "        board_T.append([0]*n)\n",
    "\n",
    "    for a in range(n):\n",
    "        for b in range(n):\n",
    "            board_T[a][b]=board[b][a]\n",
    "    return board_T\n",
    "\n",
    "def All_Paths_Please(board):\n",
    "    return Diagonals(board)+Rows(board)+Columns(board)\n",
    "\n",
    "def List_Same(board):\n",
    "    for item in board:\n",
    "        if item!=board[0]:\n",
    "            return 0\n",
    "    for item in board:   \n",
    "        if item==0:\n",
    "            return -1\n",
    "\n",
    "    return board[0]\n",
    "\n",
    "\n",
    "num_rows=len(board_0)\n",
    "num_cols=len(board_0[0])\n",
    "n = num_rows\n",
    "m = num_cols\n",
    "def game_state(board):\n",
    "        \n",
    "    def is_winner(lst):\n",
    "        if lst == [player_1_piece]*len(lst):\n",
    "            return player_1_piece\n",
    "        elif lst == [player_2_piece]*len(lst):\n",
    "            return player_2_piece\n",
    "        else:\n",
    "            return False\n",
    "    \n",
    "    def row_winner():\n",
    "        for i in range(n):\n",
    "            if board[i] == [player_1_piece]*3:\n",
    "                return player_1_piece\n",
    "            if board[i] == [player_2_piece]*3:\n",
    "                return player_2_piece\n",
    "        return False\n",
    "   \n",
    "    col_list = []\n",
    "    for i in range(m):\n",
    "        col = []\n",
    "        for j in range(n):\n",
    "            col.append(board[j][i])\n",
    "        col_list.append(col)\n",
    "\n",
    "    def col_winner():\n",
    "        for i in range(m):\n",
    "            if is_winner(col_list[i]) == player_1_piece:\n",
    "                return player_1_piece\n",
    "            if is_winner(col_list[i]) == player_2_piece:\n",
    "                return player_2_piece\n",
    "        return False\n",
    "  \n",
    "    def is_full():\n",
    "        z = 0\n",
    "        for i in range(n):\n",
    "            for j in range(m):\n",
    "                if board[i][j] != empty:\n",
    "                    z=1\n",
    "        if z==(n*m):\n",
    "            return True\n",
    "        else:\n",
    "            return False\n",
    "        \n",
    "    def winner():\n",
    "        row_state = row_winner()\n",
    "        col_state = col_winner()\n",
    "        if row_state:\n",
    "            return row_state\n",
    "        elif col_state:\n",
    "            return col_state\n",
    "    \n",
    "        else:\n",
    "            return False\n",
    "    \n",
    "    if winner():\n",
    "        return winner()\n",
    "    elif is_full():\n",
    "        return 0\n",
    "    else:\n",
    "        return -1\n",
    "\n",
    "\n"
   ]
  },
  {
   "cell_type": "code",
   "execution_count": 10,
   "metadata": {},
   "outputs": [
    {
     "name": "stdout",
     "output_type": "stream",
     "text": [
      "[[1, 1, 0], [0, 1, 2], [1, 2, 0], [2, 1, 0], [2, 1, 0], [1, 2, 2], [2, 1, 1], [0, 0, 0]]\n"
     ]
    },
    {
     "data": {
      "text/plain": [
       "[0, 0, 0, 0, 0, 0, 0, -1]"
      ]
     },
     "execution_count": 10,
     "metadata": {},
     "output_type": "execute_result"
    }
   ],
   "source": [
    "# Test your solution here\n",
    "print(All_Paths_Please(also_no_winner))\n",
    "list(map(List_Same,All_Paths_Please(also_no_winner)))"
   ]
  },
  {
   "cell_type": "code",
   "execution_count": 11,
   "metadata": {},
   "outputs": [
    {
     "data": {
      "text/plain": [
       "-1"
      ]
     },
     "execution_count": 11,
     "metadata": {},
     "output_type": "execute_result"
    }
   ],
   "source": [
    "# Test your solution here\n",
    "board=[[2, 2, 0],[2, 1, 0],[2, 1, 1]]\n",
    "game_state(board)"
   ]
  },
  {
   "cell_type": "markdown",
   "metadata": {},
   "source": [
    "*Exercise 5:* Write a function that takes a game board, player number, and `(x,y)` coordinates and places \"X\" or \"O\" in the correct location of the game board. Make sure that you only allow filling previously empty locations. Return `True` or `False` to indicate successful placement of \"X\" or \"O\"."
   ]
  },
  {
   "cell_type": "code",
   "execution_count": 12,
   "metadata": {},
   "outputs": [],
   "source": [
    "# Write you solution here\n",
    "def Print_Message(message,verbose=True):\n",
    "    if verbose:\n",
    "        print(message)\n",
    "\n",
    "        \n",
    "player_1_piece=\"X\"\n",
    "player_2_piece=\"O\"\n",
    "empty_space=\" \"\n",
    "    \n",
    "space_character= {\"X\":player_1_piece,\n",
    "                  \"O\":player_2_piece,\n",
    "                  empty: empty_space}\n",
    "\n",
    "def Place_Character(board,player,location,verbose=True):\n",
    "    x,y=location\n",
    "    \n",
    "    \n",
    "    if board_0[x][y]!=empty:\n",
    "        Print_Message(\"Not possible: space is not empty\")\n",
    "        return False\n",
    "    \n",
    "    else:\n",
    "        board_0[x][y]=player\n",
    "        return True\n",
    "    \n"
   ]
  },
  {
   "cell_type": "code",
   "execution_count": 13,
   "metadata": {},
   "outputs": [
    {
     "data": {
      "text/plain": [
       "[[0, 0, 0], [0, 0, 'X'], [0, 0, 0]]"
      ]
     },
     "execution_count": 13,
     "metadata": {},
     "output_type": "execute_result"
    }
   ],
   "source": [
    "# Test your solution here\n",
    "Place_Character(board_0,player_1_piece,(1,2))\n",
    "board_0\n"
   ]
  },
  {
   "cell_type": "markdown",
   "metadata": {},
   "source": [
    "*Exercise 6:* Modify Exercise 4 to show column and row labels so that players can specify location using \"A2\" or \"C1\"."
   ]
  },
  {
   "cell_type": "code",
   "execution_count": 14,
   "metadata": {},
   "outputs": [],
   "source": [
    "# Write you solution here\n",
    "row_names=list(\"ABCDEFGHIJKLMNOPQRSTUVWXYZ\")\n",
    "row_map=dict(zip(row_names,range(len(board))))\n",
    "\n",
    "column_names=list(map(str,range(1,len(board)+1)))\n",
    "column_map=dict(zip(column_names,range(len(board))))\n",
    "\n",
    "def Redraw_Board(board):\n",
    "    row_names=list(\"ABCDEFGHIJKLMNOPQRSTUVWXYZ\")\n",
    "    row_map=dict(zip(row_names,range(len(board))))\n",
    "\n",
    "    column_names=list(map(str,range(1,len(board)+1)))\n",
    "    column_map=dict(zip(column_names,range(len(board))))\n",
    "\n",
    "    num_rows=len(board)\n",
    "    num_cols=len(board[0])\n",
    "    \n",
    "    print(\"  \",end=\" \")\n",
    "    \n",
    "    for j in range(num_cols):\n",
    "        print(column_names[j],end=\" \")\n",
    "        print(\"  \",end=\" \")\n",
    "        \n",
    "    print()\n",
    "    print(\"  \",end=\" \")\n",
    "    print(\"--- \"*num_cols)\n",
    "    \n",
    "    for i in range(num_rows):\n",
    "        print(row_names[i],end=\" \")\n",
    "        print(\"|\",end=\" \")\n",
    "        \n",
    "        for j in range(num_cols):\n",
    "            print(space_character[board[i][j]],end=\" \")\n",
    "            print(\"|\",end=\" \")\n",
    "        print()\n",
    "        print(\"  \",end=\" \")\n",
    "        print(\"--- \"*num_cols)\n"
   ]
  },
  {
   "cell_type": "code",
   "execution_count": 15,
   "metadata": {},
   "outputs": [
    {
     "name": "stdout",
     "output_type": "stream",
     "text": [
      "   1    2    3    \n",
      "   --- --- --- \n",
      "A |   |   |   | \n",
      "   --- --- --- \n",
      "B |   |   | X | \n",
      "   --- --- --- \n",
      "C |   |   |   | \n",
      "   --- --- --- \n"
     ]
    }
   ],
   "source": [
    "# Test your solution here\n",
    "Redraw_Board(board_0)\n"
   ]
  },
  {
   "cell_type": "markdown",
   "metadata": {},
   "source": [
    "*Exercise 7:* Write a function that takes a board, player number, and location specified as in exercise 6 and then calls exercise 5 to correctly modify the board.  "
   ]
  },
  {
   "cell_type": "code",
   "execution_count": 16,
   "metadata": {},
   "outputs": [],
   "source": [
    "# Write you solution here\n",
    "row_names=list(\"ABCDEFGHIJKLMNOPQRSTUVWXYZ\")\n",
    "row_map=dict(zip(row_names,range(len(board_0))))\n",
    "\n",
    "column_names=list(map(str,range(1,len(board_0)+1)))\n",
    "column_map=dict(zip(column_names,range(len(board_0))))\n",
    "\n",
    "def Parse_Location(l_string):\n",
    "    row_names=list(\"ABCDEFGHIJKLMNOPQRSTUVWXYZ\")\n",
    "    row_map=dict(zip(row_names,range(len(board_0))))\n",
    "\n",
    "    column_names=list(map(str,range(1,len(board_0)+1)))\n",
    "    column_map=dict(zip(column_names,range(len(board_0))))\n",
    "    if not isinstance(l_string,str):\n",
    "        Print_Message(\"Bad Input. Location must be string.\")\n",
    "        return False\n",
    "    \n",
    "    if len(l_string)!=2:\n",
    "        Print_Message(\"Bad Input. Location must be 2 characters.\")\n",
    "        return False\n",
    "    \n",
    "    row=l_string[0].upper()\n",
    "    col=l_string[1].upper()\n",
    "    \n",
    "    if not row in row_names:\n",
    "        Print_Message(\"Bad Row.\")\n",
    "        return False\n",
    "\n",
    "    if not col in column_names:\n",
    "        Print_Message(\"Bad Column.\")\n",
    "        return False\n",
    "\n",
    "    return row_map[row],column_map[col]\n",
    "\n",
    "\n",
    "    \n",
    "def Better_Move_Piece(board,player,location):\n",
    "    loc=Parse_Location(location)\n",
    "    if loc:\n",
    "        return Place_Character(board,player,loc)\n",
    "    else:\n",
    "        Print_Message(\"Not possible!\")\n",
    "        return False\n",
    "    return board\n",
    "\n"
   ]
  },
  {
   "cell_type": "code",
   "execution_count": 17,
   "metadata": {},
   "outputs": [
    {
     "name": "stdout",
     "output_type": "stream",
     "text": [
      "   1    2    3    \n",
      "   --- --- --- \n",
      "A |   |   |   | \n",
      "   --- --- --- \n",
      "B |   | O | X | \n",
      "   --- --- --- \n",
      "C |   |   |   | \n",
      "   --- --- --- \n"
     ]
    }
   ],
   "source": [
    "# Test your solution here\n",
    "Better_Move_Piece(board_0,player_2_piece, \"B2\")\n",
    "Redraw_Board(board_0)"
   ]
  },
  {
   "cell_type": "markdown",
   "metadata": {},
   "source": [
    "*Exercise 8:* Write a function is called with a board and player number, takes input from the player using python's `input`, and modifies the board using your function from exercise 7. Note that you should keep asking for input until you have gotten a valid input that results in a valid move."
   ]
  },
  {
   "cell_type": "code",
   "execution_count": 18,
   "metadata": {},
   "outputs": [],
   "source": [
    "# Write you solution here\n",
    "def Take_Move(board,player):\n",
    "    good_move = False\n",
    "    \n",
    "    while not good_move:\n",
    "        location_string = input(\"Input location to place your piece:\")\n",
    "        if location_string==\"XX\":\n",
    "            good_move = \"end\"\n",
    "            return good_move\n",
    "        good_move = Better_Move_Piece(board,player,location_string)"
   ]
  },
  {
   "cell_type": "code",
   "execution_count": 19,
   "metadata": {},
   "outputs": [
    {
     "name": "stdout",
     "output_type": "stream",
     "text": [
      "Input location to place your piece:A3\n",
      "   1    2    3    \n",
      "   --- --- --- \n",
      "A |   |   | X | \n",
      "   --- --- --- \n",
      "B |   | O | X | \n",
      "   --- --- --- \n",
      "C |   |   |   | \n",
      "   --- --- --- \n"
     ]
    }
   ],
   "source": [
    "# Test your solution here\n",
    "Take_Move(board_0,player_1_piece)\n",
    "Redraw_Board(board_0)"
   ]
  },
  {
   "cell_type": "markdown",
   "metadata": {},
   "source": [
    "*Exercise 9:* Use all of the previous exercises to implement a full tic-tac-toe game, where an appropriate board is drawn, 2 players are repeatedly asked for a location coordinates of where they wish to place a mark, and the game status is checked until a player wins or a draw occurs."
   ]
  },
  {
   "cell_type": "code",
   "execution_count": 20,
   "metadata": {},
   "outputs": [],
   "source": [
    "# Write you solution here\n",
    "def GAME_TIME(board):\n",
    "    print(\"Welcome to Tic-Tac-Toe!\")\n",
    "    print(\"--------------------\")\n",
    "    \n",
    "    board_0 = board\n",
    "    \n",
    "    player = player_1_piece\n",
    "    \n",
    "    this_game_state = -1\n",
    "    \n",
    "    while this_game_state==-1:\n",
    "        Draw_TicTacToe_Board(board_0)\n",
    "        \n",
    "        print(\"Player\",player,\"move:\")\n",
    "        new_move = Take_Move(board_0,player)\n",
    "        \n",
    "        if new_move == \"end\":\n",
    "            print(\"Player has left the game\")\n",
    "            break\n",
    "        this_game_state = game_state(board)\n",
    "        \n",
    "        if player==player_1_piece:\n",
    "            player = player_2_piece\n",
    "        else:\n",
    "            player = player_1_piece\n",
    "         \n",
    "    if not new_move == \"end\":\n",
    "        Draw_TicTacToe_Board(board_0)\n",
    "        if this_game_state == 0:\n",
    "            print(\"The game is a draw\")\n",
    "        else:\n",
    "            print(\"Winner is player\",this_game_state)"
   ]
  },
  {
   "cell_type": "code",
   "execution_count": 21,
   "metadata": {},
   "outputs": [
    {
     "name": "stdout",
     "output_type": "stream",
     "text": [
      "Welcome to Tic-Tac-Toe!\n",
      "--------------------\n",
      " --- --- ---\n",
      "|   |   | X |\n",
      " --- --- ---\n",
      "|   | O | X |\n",
      " --- --- ---\n",
      "|   |   |   |\n",
      " --- --- ---\n",
      "Player X move:\n",
      "Input location to place your piece:C3\n",
      " --- --- ---\n",
      "|   |   | X |\n",
      " --- --- ---\n",
      "|   | O | X |\n",
      " --- --- ---\n",
      "|   |   | X |\n",
      " --- --- ---\n",
      "Winner is player X\n"
     ]
    }
   ],
   "source": [
    "# Test your solution here\n",
    "GAME_TIME(board_0)"
   ]
  },
  {
   "cell_type": "markdown",
   "metadata": {},
   "source": [
    "*Exercise 10:* Test that your game works for 5x5 Tic Tac Toe.  "
   ]
  },
  {
   "cell_type": "code",
   "execution_count": null,
   "metadata": {},
   "outputs": [
    {
     "name": "stdout",
     "output_type": "stream",
     "text": [
      "   1    2    3    4    5    \n",
      "   --- --- --- --- --- \n",
      "A |   |   |   |   |   | \n",
      "   --- --- --- --- --- \n",
      "B |   |   |   |   |   | \n",
      "   --- --- --- --- --- \n",
      "C |   |   |   |   |   | \n",
      "   --- --- --- --- --- \n",
      "D |   |   |   |   |   | \n",
      "   --- --- --- --- --- \n",
      "E |   |   |   |   |   | \n",
      "   --- --- --- --- --- \n",
      "Welcome to Tic-Tac-Toe!\n",
      "--------------------\n",
      " --- --- --- --- ---\n",
      "|   |   |   |   |   |\n",
      " --- --- --- --- ---\n",
      "|   |   |   |   |   |\n",
      " --- --- --- --- ---\n",
      "|   |   |   |   |   |\n",
      " --- --- --- --- ---\n",
      "|   |   |   |   |   |\n",
      " --- --- --- --- ---\n",
      "|   |   |   |   |   |\n",
      " --- --- --- --- ---\n",
      "Player X move:\n",
      "Input location to place your piece:E1\n",
      " --- --- --- --- ---\n",
      "|   |   |   |   |   |\n",
      " --- --- --- --- ---\n",
      "|   |   |   |   |   |\n",
      " --- --- --- --- ---\n",
      "|   |   |   |   |   |\n",
      " --- --- --- --- ---\n",
      "|   |   |   |   |   |\n",
      " --- --- --- --- ---\n",
      "| X |   |   |   |   |\n",
      " --- --- --- --- ---\n",
      "Player O move:\n",
      "Input location to place your piece:A1\n",
      " --- --- --- --- ---\n",
      "| O |   |   |   |   |\n",
      " --- --- --- --- ---\n",
      "|   |   |   |   |   |\n",
      " --- --- --- --- ---\n",
      "|   |   |   |   |   |\n",
      " --- --- --- --- ---\n",
      "|   |   |   |   |   |\n",
      " --- --- --- --- ---\n",
      "| X |   |   |   |   |\n",
      " --- --- --- --- ---\n",
      "Player X move:\n",
      "Input location to place your piece:E2\n",
      " --- --- --- --- ---\n",
      "| O |   |   |   |   |\n",
      " --- --- --- --- ---\n",
      "|   |   |   |   |   |\n",
      " --- --- --- --- ---\n",
      "|   |   |   |   |   |\n",
      " --- --- --- --- ---\n",
      "|   |   |   |   |   |\n",
      " --- --- --- --- ---\n",
      "| X | X |   |   |   |\n",
      " --- --- --- --- ---\n",
      "Player O move:\n",
      "Input location to place your piece:A2\n",
      " --- --- --- --- ---\n",
      "| O | O |   |   |   |\n",
      " --- --- --- --- ---\n",
      "|   |   |   |   |   |\n",
      " --- --- --- --- ---\n",
      "|   |   |   |   |   |\n",
      " --- --- --- --- ---\n",
      "|   |   |   |   |   |\n",
      " --- --- --- --- ---\n",
      "| X | X |   |   |   |\n",
      " --- --- --- --- ---\n",
      "Player X move:\n",
      "Input location to place your piece:E3\n",
      " --- --- --- --- ---\n",
      "| O | O |   |   |   |\n",
      " --- --- --- --- ---\n",
      "|   |   |   |   |   |\n",
      " --- --- --- --- ---\n",
      "|   |   |   |   |   |\n",
      " --- --- --- --- ---\n",
      "|   |   |   |   |   |\n",
      " --- --- --- --- ---\n",
      "| X | X | X |   |   |\n",
      " --- --- --- --- ---\n",
      "Player O move:\n",
      "Input location to place your piece:A3\n",
      " --- --- --- --- ---\n",
      "| O | O | O |   |   |\n",
      " --- --- --- --- ---\n",
      "|   |   |   |   |   |\n",
      " --- --- --- --- ---\n",
      "|   |   |   |   |   |\n",
      " --- --- --- --- ---\n",
      "|   |   |   |   |   |\n",
      " --- --- --- --- ---\n",
      "| X | X | X |   |   |\n",
      " --- --- --- --- ---\n",
      "Player X move:\n",
      "Input location to place your piece:E4\n",
      " --- --- --- --- ---\n",
      "| O | O | O |   |   |\n",
      " --- --- --- --- ---\n",
      "|   |   |   |   |   |\n",
      " --- --- --- --- ---\n",
      "|   |   |   |   |   |\n",
      " --- --- --- --- ---\n",
      "|   |   |   |   |   |\n",
      " --- --- --- --- ---\n",
      "| X | X | X | X |   |\n",
      " --- --- --- --- ---\n",
      "Player O move:\n",
      "Input location to place your piece:A4\n",
      " --- --- --- --- ---\n",
      "| O | O | O | O |   |\n",
      " --- --- --- --- ---\n",
      "|   |   |   |   |   |\n",
      " --- --- --- --- ---\n",
      "|   |   |   |   |   |\n",
      " --- --- --- --- ---\n",
      "|   |   |   |   |   |\n",
      " --- --- --- --- ---\n",
      "| X | X | X | X |   |\n",
      " --- --- --- --- ---\n",
      "Player X move:\n",
      "Input location to place your piece:E5\n",
      " --- --- --- --- ---\n",
      "| O | O | O | O |   |\n",
      " --- --- --- --- ---\n",
      "|   |   |   |   |   |\n",
      " --- --- --- --- ---\n",
      "|   |   |   |   |   |\n",
      " --- --- --- --- ---\n",
      "|   |   |   |   |   |\n",
      " --- --- --- --- ---\n",
      "| X | X | X | X | X |\n",
      " --- --- --- --- ---\n",
      "Player O move:\n",
      "Input location to place your piece:A5\n",
      " --- --- --- --- ---\n",
      "| O | O | O | O | O |\n",
      " --- --- --- --- ---\n",
      "|   |   |   |   |   |\n",
      " --- --- --- --- ---\n",
      "|   |   |   |   |   |\n",
      " --- --- --- --- ---\n",
      "|   |   |   |   |   |\n",
      " --- --- --- --- ---\n",
      "| X | X | X | X | X |\n",
      " --- --- --- --- ---\n",
      "Player X move:\n"
     ]
    }
   ],
   "source": [
    "# Test your solution here\n",
    "board_0=Board(5)\n",
    "\n",
    "\n",
    "\n",
    "Redraw_Board(board_0)\n",
    "GAME_TIME(board_0)"
   ]
  },
  {
   "cell_type": "markdown",
   "metadata": {},
   "source": [
    "*Exercise 11:* (Advanced / Challenge) Develop a version of the game where one player is the computer. Note that you don't need to do an extensive seach for the best move. You can have the computer simply protect against loosing and otherwise try to win with straight or diagonal patterns."
   ]
  },
  {
   "cell_type": "code",
   "execution_count": null,
   "metadata": {},
   "outputs": [],
   "source": [
    "# Write you solution here"
   ]
  },
  {
   "cell_type": "code",
   "execution_count": null,
   "metadata": {},
   "outputs": [],
   "source": [
    "# Test your solution here"
   ]
  }
 ],
 "metadata": {
  "kernelspec": {
   "display_name": "Python 3 (ipykernel)",
   "language": "python",
   "name": "python3"
  },
  "language_info": {
   "codemirror_mode": {
    "name": "ipython",
    "version": 3
   },
   "file_extension": ".py",
   "mimetype": "text/x-python",
   "name": "python",
   "nbconvert_exporter": "python",
   "pygments_lexer": "ipython3",
   "version": "3.11.5"
  }
 },
 "nbformat": 4,
 "nbformat_minor": 2
}
